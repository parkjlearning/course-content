{
  "cells": [
    {
      "cell_type": "markdown",
      "metadata": {
        "id": "view-in-github",
        "colab_type": "text"
      },
      "source": [
        "<a href=\"https://colab.research.google.com/github/parkjlearning/course-content/blob/main/tutorials/W1D2_ModelFitting/W1D2_Tutorial2_parkj.ipynb\" target=\"_parent\"><img src=\"https://colab.research.google.com/assets/colab-badge.svg\" alt=\"Open In Colab\"/></a>"
      ]
    },
    {
      "cell_type": "markdown",
      "metadata": {
        "execution": {},
        "id": "ud2ExHNLT5yi"
      },
      "source": [
        "# Tutorial 2: Linear regression with MLE\n",
        "\n",
        "**Week 1, Day 2: Model Fitting**\n",
        "\n",
        "**By Neuromatch Academy**\n",
        "\n",
        "**Content creators**: Pierre-Étienne Fiquet, Anqi Wu, Alex Hyafil  with help from Byron Galbraith\n",
        "\n",
        "**Content reviewers**: Lina Teichmann, Madineh Sarvestani, Patrick Mineault, Ella Batty, Michael Waskom"
      ]
    },
    {
      "cell_type": "markdown",
      "metadata": {
        "execution": {},
        "id": "086SLkUzT5yk"
      },
      "source": [
        "**Our 2022 Sponsors, including Presenting Sponsor Facebook Reality Labs**\n",
        "\n",
        "<p align='center'><img src='https://github.com/NeuromatchAcademy/widgets/blob/master/sponsors.png?raw=True'/></p>"
      ]
    },
    {
      "cell_type": "markdown",
      "metadata": {
        "execution": {},
        "id": "-eMZYH2tT5yk"
      },
      "source": [
        "---\n",
        "# Tutorial Objectives\n",
        "\n",
        "*Estimated timing of tutorial: 30 minutes*\n",
        "\n",
        "This is Tutorial 2 of a series on fitting models to data. We start with simple linear regression, using least squares optimization (Tutorial 1) and Maximum Likelihood Estimation (Tutorial 2). We will use bootstrapping to build confidence intervals around the inferred linear model parameters (Tutorial 3). We'll finish our exploration of regression models by generalizing to multiple linear regression and polynomial regression (Tutorial 4). We end by learning how to choose between these various models. We discuss the bias-variance trade-off (Tutorial 5) and Cross Validation for model selection (Tutorial 6).\n",
        "\n",
        "In this tutorial, we will use a different approach to fit linear models that incorporates the random 'noise' in our data.\n",
        "- Learn about probability distributions and probabilistic models\n",
        "- Learn how to calculate the likelihood of our model parameters\n",
        "- Learn how to implement the maximum likelihood estimator, to find the model parameter with the maximum likelihood\n",
        "\n"
      ]
    },
    {
      "cell_type": "code",
      "execution_count": null,
      "metadata": {
        "cellView": "form",
        "execution": {},
        "id": "1sY47cHjT5yl"
      },
      "outputs": [],
      "source": [
        "# @title Tutorial slides\n",
        "\n",
        "# @markdown These are the slides for the videos in all tutorials today\n",
        "from IPython.display import IFrame\n",
        "IFrame(src=f\"https://mfr.ca-1.osf.io/render?url=https://osf.io/2mkq4/?direct%26mode=render%26action=download%26mode=render\", width=854, height=480)"
      ]
    },
    {
      "cell_type": "markdown",
      "metadata": {
        "execution": {},
        "id": "N39Y7pUnT5ym"
      },
      "source": [
        "---\n",
        "# Setup"
      ]
    },
    {
      "cell_type": "code",
      "execution_count": 2,
      "metadata": {
        "execution": {},
        "id": "Zd-k0X_BT5ym"
      },
      "outputs": [],
      "source": [
        "import numpy as np\n",
        "import matplotlib.pyplot as plt\n",
        "from scipy import stats"
      ]
    },
    {
      "cell_type": "code",
      "execution_count": 3,
      "metadata": {
        "execution": {},
        "id": "Ctk-A_qCT5yn"
      },
      "outputs": [],
      "source": [
        "#@title Figure Settings\n",
        "import ipywidgets as widgets       # interactive display\n",
        "%config InlineBackend.figure_format = 'retina'\n",
        "plt.style.use(\"https://raw.githubusercontent.com/NeuromatchAcademy/course-content/master/nma.mplstyle\")"
      ]
    },
    {
      "cell_type": "code",
      "execution_count": 4,
      "metadata": {
        "execution": {},
        "id": "avFfOTgTT5yn"
      },
      "outputs": [],
      "source": [
        "# @title Plotting Functions\n",
        "def plot_density_image(x, y, theta, sigma=1, ax=None):\n",
        "  \"\"\" Plots probability distribution of y given x, theta, and sigma\n",
        "\n",
        "  Args:\n",
        "\n",
        "    x (ndarray): An array of shape (samples,) that contains the input values.\n",
        "    y (ndarray): An array of shape (samples,) that contains the corresponding\n",
        "      measurement values to the inputs.\n",
        "    theta (float): Slope parameter\n",
        "    sigma (float): standard deviation of Gaussian noise\n",
        "\n",
        "  \"\"\"\n",
        "\n",
        "  # plot the probability density of p(y|x,theta)\n",
        "  if ax is None:\n",
        "    fig, ax = plt.subplots()\n",
        "\n",
        "  xmin, xmax = np.floor(np.min(x)), np.ceil(np.max(x))\n",
        "  ymin, ymax = np.floor(np.min(y)), np.ceil(np.max(y))\n",
        "  xx = np.linspace(xmin, xmax, 50)\n",
        "  yy = np.linspace(ymin, ymax, 50)\n",
        "\n",
        "  surface = np.zeros((len(yy), len(xx)))\n",
        "  for i, x_i in enumerate(xx):\n",
        "    surface[:, i] = stats.norm(theta * x_i, sigma).pdf(yy)\n",
        "\n",
        "  ax.set(xlabel='x', ylabel='y')\n",
        "\n",
        "  return ax.imshow(surface, origin='lower', aspect='auto', vmin=0, vmax=None,\n",
        "            cmap=plt.get_cmap('Wistia'),\n",
        "            extent=[xmin, xmax, ymin, ymax])"
      ]
    },
    {
      "cell_type": "markdown",
      "metadata": {
        "execution": {},
        "id": "awe5V-WAT5yo"
      },
      "source": [
        "---\n",
        "# Section 1: Maximum Likelihood Estimation (MLE)\n"
      ]
    },
    {
      "cell_type": "code",
      "execution_count": null,
      "metadata": {
        "cellView": "form",
        "execution": {},
        "id": "r94aQYtnT5yp"
      },
      "outputs": [],
      "source": [
        "# @title Video 1: Maximum Likelihood Estimation\n",
        "from ipywidgets import widgets\n",
        "\n",
        "out2 = widgets.Output()\n",
        "with out2:\n",
        "  from IPython.display import IFrame\n",
        "  class BiliVideo(IFrame):\n",
        "      def __init__(self, id, page=1, width=400, height=300, **kwargs):\n",
        "          self.id=id\n",
        "          src = 'https://player.bilibili.com/player.html?bvid={0}&page={1}'.format(id, page)\n",
        "          super(BiliVideo, self).__init__(src, width, height, **kwargs)\n",
        "\n",
        "  video = BiliVideo(id=\"BV1Mg4y1i7WH\", width=854, height=480, fs=1)\n",
        "  print('Video available at https://www.bilibili.com/video/{0}'.format(video.id))\n",
        "  display(video)\n",
        "\n",
        "out1 = widgets.Output()\n",
        "with out1:\n",
        "  from IPython.display import YouTubeVideo\n",
        "  video = YouTubeVideo(id=\"8mpNmzLKNfU\", width=854, height=480, fs=1, rel=0)\n",
        "  print('Video available at https://youtube.com/watch?v=' + video.id)\n",
        "  display(video)\n",
        "\n",
        "out = widgets.Tab([out1, out2])\n",
        "out.set_title(0, 'Youtube')\n",
        "out.set_title(1, 'Bilibili')\n",
        "\n",
        "display(out)"
      ]
    },
    {
      "cell_type": "markdown",
      "metadata": {
        "execution": {},
        "id": "7nUM6Q-ET5yp"
      },
      "source": [
        "This video covers Maximum Likelihood Estimation (MLE) in the context of a 1D linear regression.\n"
      ]
    },
    {
      "cell_type": "markdown",
      "metadata": {
        "execution": {},
        "id": "w44sYJ6_T5yq"
      },
      "source": [
        "## Section 1.1: Gaussian noise"
      ]
    },
    {
      "cell_type": "markdown",
      "metadata": {
        "execution": {},
        "id": "TMr_C8-xT5yq"
      },
      "source": [
        "\n",
        "<details>\n",
        "<summary> <font color='blue'>Click here for text recap of relevant part of video </font></summary>\n",
        "\n",
        "In the previous tutorial we made the assumption that the data was drawn from a linear relationship with noise added, and found an effective approach for estimating model parameters based on minimizing the mean squared error.\n",
        "\n",
        "In that case we treated the noise as simply a nuisance, but what if we factored it directly into our model?\n",
        "\n",
        "Recall our linear model:\n",
        "\n",
        "\\begin{align}\n",
        "y = \\theta x + \\epsilon.\n",
        "\\end{align}\n",
        "\n",
        "The noise component $\\epsilon$ is often modeled as a random variable drawn from a Gaussian distribution (also called the normal distribution).\n",
        "\n",
        "The Gaussian distribution is described by its [probability density function](https://en.wikipedia.org/wiki/Probability_density_function) (pdf)\n",
        "\\begin{align}\n",
        "\\mathcal{N}(x; \\mu, \\sigma^2) = \\frac{1}{\\sqrt{2\\pi\\sigma^2}}e^{-\\frac{1}{2\\sigma^2}(x-\\mu)^2}\n",
        "\\end{align}\n",
        "\n",
        "and is dependent on two parameters: the mean $\\mu$ and the variance $\\sigma^2$. We often consider the noise signal to be Gaussian \"white noise\", with zero mean and unit variance:\n",
        "\n",
        "\\begin{align}\n",
        "\\epsilon \\sim \\mathcal{N}(0, 1).\n",
        "\\end{align}\n",
        "\n"
      ]
    },
    {
      "cell_type": "markdown",
      "metadata": {
        "execution": {},
        "id": "VGXiyQKLT5yq"
      },
      "source": [
        "### Interactive Demo 1.1: Gaussian Distribution Explorer\n",
        "\n",
        "Use the explorer widget below to see how varying the $\\mu$ and $\\sigma$ parameters change the location and shape of the samples.\n",
        "\n",
        "\n",
        "1.   What effect does varying $\\mu$ have on the pdf?\n",
        "2.   What effect does varying $\\sigma$ have on the pdf?\n",
        "\n"
      ]
    },
    {
      "cell_type": "code",
      "execution_count": 5,
      "metadata": {
        "execution": {},
        "id": "JN3yw42rT5yr",
        "outputId": "d71588b0-ac01-4b37-a632-55b73902a021",
        "colab": {
          "base_uri": "https://localhost:8080/",
          "height": 494,
          "referenced_widgets": [
            "24128be763844102834629e9df8b20cf",
            "b2f5b2cb9a09426e83eaf14aed90c3ba",
            "9edd7ed0d0f34883994572ecfeab42c2",
            "cbc0a0d1333545f4b32a6fe68bdb10da",
            "d9976cbc7e514d028326a0f6bb51f593",
            "9a4f05ffa9a647058e14a6769881a82f",
            "f0ef848f48ea4bbab1b05f2452059899",
            "fdb0a1485d304e8bb6be0371c4a8b6f3",
            "803043b6f3f744c99845fd455cdac2e5",
            "3fe68c9acc594d40920b742fcc55ae03"
          ]
        }
      },
      "outputs": [
        {
          "output_type": "display_data",
          "data": {
            "text/plain": [
              "interactive(children=(FloatSlider(value=0.0, description='mu', max=2.0, min=-2.0), FloatSlider(value=1.0, desc…"
            ],
            "application/vnd.jupyter.widget-view+json": {
              "version_major": 2,
              "version_minor": 0,
              "model_id": "24128be763844102834629e9df8b20cf"
            }
          },
          "metadata": {}
        }
      ],
      "source": [
        "# @markdown Make sure you execute this cell to enable the widget!\n",
        "\n",
        "@widgets.interact(mu=widgets.FloatSlider(0.0, min=-2.0, max=2.0),\n",
        "                  sigma=widgets.FloatSlider(1.0, min=0.5, max=2.0))\n",
        "def plot_normal_dist(mu=0, sigma=1):\n",
        "\n",
        "  # Generate pdf & samples from normal distribution with mu/sigma\n",
        "  rv = stats.norm(mu, sigma)\n",
        "  x = np.linspace(-5, 5, 100)\n",
        "  y = rv.pdf(x)\n",
        "  samples = rv.rvs(1000)\n",
        "\n",
        "  # Plot\n",
        "  fig, ax = plt.subplots()\n",
        "  ax.hist(samples, 20, density=True, color='g', histtype='stepfilled', alpha=0.8,\n",
        "          label='histogram')\n",
        "  ax.plot(x, y, color='orange', linewidth=3, label='pdf')\n",
        "  ax.vlines(mu, 0, rv.pdf(mu), color='y', linewidth=3, label='$\\mu$')\n",
        "  ax.vlines([mu-sigma, mu+sigma], 0, rv.pdf([mu-sigma, mu+sigma]), colors='red',\n",
        "            color='b', linewidth=3, label='$\\sigma$')\n",
        "  ax.set(xlabel='x', ylabel='probability density', xlim=[-5, 5], ylim=[0, 1.0])\n",
        "  ax.legend()"
      ]
    },
    {
      "cell_type": "code",
      "execution_count": 6,
      "metadata": {
        "execution": {},
        "id": "eD0SB3HFT5yr"
      },
      "outputs": [],
      "source": [
        "# to_remove explanation\n",
        "\n",
        "\"\"\"\n",
        "1. Mu controls the mean of the Gaussian distribution - it shifts it along the x-axis.\n",
        "2. Sigma controls the width of the Gaussian distribution - small sigma results in a narrow\n",
        "distribution, large sigma results in a very wide distribution\n",
        "\"\"\";"
      ]
    },
    {
      "cell_type": "markdown",
      "metadata": {
        "execution": {},
        "id": "E430t4rDT5ys"
      },
      "source": [
        "## Section 1.2: Probabilistic Models\n",
        "\n",
        "*Estimated timing to here from start of tutorial: 11 min*\n",
        "\n",
        "Now that we have a model of our noise component $\\epsilon$ as random variable, how do we incorporate this back into our original linear model from before? Consider again our simplified model $y = \\theta x + \\epsilon$ where the noise has zero mean and unit variance $\\epsilon \\sim \\mathcal{N}(0, 1)$. We can now also treat $y$ as a random variable drawn from a Gaussian distribution where $\\mu = \\theta x$ and $\\sigma^2 = 1$:\n",
        "\n",
        "\\begin{equation}\n",
        "y \\sim \\mathcal{N}(\\theta x, 1)\n",
        "\\end{equation}\n",
        "\n",
        "which is to say that the probability of observing $y$ given $x$ and parameter $\\theta$ is\n",
        "\n",
        "\\begin{equation}\n",
        "p(y|x,\\theta) = \\frac{1}{\\sqrt{2\\pi}}e^{-\\frac{1}{2}(y-\\theta x)^2}\n",
        "\\end{equation}\n",
        "\n",
        "\n",
        "Note that in this and the following sections, we will focus on a single data point (a single pairing of $x$ and $y$). We have dropped the subscript $i$ just for simplicity (that is, we use $x$ for a single data point, instead of $x_i$). \n",
        "\n",
        "Now, let's revisit our original sample dataset where the true underlying model has $\\theta = 1.2$."
      ]
    },
    {
      "cell_type": "code",
      "execution_count": 7,
      "metadata": {
        "execution": {},
        "id": "a_5wU_iTT5ys"
      },
      "outputs": [],
      "source": [
        "# @markdown Execute this cell to generate some simulated data\n",
        "\n",
        "# setting a fixed seed to our random number generator ensures we will always\n",
        "# get the same psuedorandom number sequence\n",
        "\n",
        "np.random.seed(121)\n",
        "theta = 1.2\n",
        "n_samples = 30\n",
        "x = 10 * np.random.rand(n_samples) # sample from a uniform distribution over [0,10)\n",
        "noise = np.random.randn(n_samples) # sample from a standard normal distribution\n",
        "y = theta * x + noise"
      ]
    },
    {
      "cell_type": "code",
      "source": [
        "np.random.seed(121)\n",
        "theta = 1.2\n",
        "n_samples = 30\n",
        "x = 10 * np.random.rand(n_samples) # sample from a uniform distribution over [0,10)\n",
        "noise = np.random.randn(n_samples) # sample from a standard normal distribution\n",
        "y = theta * x + noise"
      ],
      "metadata": {
        "id": "oP_la7AikkBw"
      },
      "execution_count": 8,
      "outputs": []
    },
    {
      "cell_type": "markdown",
      "metadata": {
        "execution": {},
        "id": "UtI9U5zST5ys"
      },
      "source": [
        "This time we can plot the density of $p(y|x,\\theta=1.2)$ and see how $p(y)$ changes for different values of $x$."
      ]
    },
    {
      "cell_type": "code",
      "execution_count": 9,
      "metadata": {
        "execution": {},
        "id": "6YBnqEUhT5ys",
        "outputId": "9dbfe080-a9d3-4174-8670-260c329522d0",
        "colab": {
          "base_uri": "https://localhost:8080/",
          "height": 286
        }
      },
      "outputs": [
        {
          "output_type": "display_data",
          "data": {
            "text/plain": [
              "<Figure size 720x288 with 3 Axes>"
            ],
            "image/png": "[encoded data removed]"
          },
          "metadata": {
            "image/png": {
              "width": 702,
              "height": 269
            },
            "needs_background": "light"
          }
        }
      ],
      "source": [
        "# @markdown Execute this cell to visualize p(y|x, theta=1.2)\n",
        "\n",
        "fig, (ax1, ax2) = plt.subplots(ncols=2, figsize=(10, 4))\n",
        "\n",
        "# Invokes helper function to generate density image plots from data and parameters\n",
        "im = plot_density_image(x, y, 1.2, ax=ax1)\n",
        "plt.colorbar(im, ax=ax1)\n",
        "ax1.axvline(8, color='k')\n",
        "ax1.set(title=r'p(y | x, $\\theta$=1.2)')\n",
        "\n",
        "# Plot pdf for given x\n",
        "ylim = ax1.get_ylim()\n",
        "yy = np.linspace(ylim[0], ylim[1], 50)\n",
        "ax2.plot(yy, stats.norm(theta * 8, 1).pdf(yy), color='orange', linewidth=2)\n",
        "ax2.set(\n",
        "    title=r'p(y|x=8, $\\theta$=1.2)',\n",
        "    xlabel='y',\n",
        "    ylabel='probability density');"
      ]
    },
    {
      "cell_type": "markdown",
      "metadata": {
        "execution": {},
        "id": "LfoCS71MT5yt"
      },
      "source": [
        "## Section 1.3: Likelihood Estimation\n",
        "\n",
        "*Estimated timing to here from start of tutorial: 15 min*\n",
        "\n",
        "Now that we have our probabilistic model, we turn back to our original challenge of finding a good estimate for $\\theta$ that fits our data. Given the inherent uncertainty when dealing in probabilities, we talk about the [likelihood](https://en.wikipedia.org/wiki/Likelihood_function) that some estimate $\\hat{\\theta}$ fits our data. The likelihood function $\\mathcal{L}(\\theta)$ is equal to the probability density function parameterized by that $\\theta$:\n",
        "\n",
        "\\begin{equation}\n",
        "\\mathcal{L}(\\theta|x,y) = p(y|x,\\theta) = \\frac{1}{\\sqrt{2\\pi\\sigma^2}}e^{-\\frac{1}{2\\sigma^2}(y-\\theta x)^2}\n",
        "\\end{equation}"
      ]
    },
    {
      "cell_type": "markdown",
      "metadata": {
        "execution": {},
        "id": "3XBVuczAT5yt"
      },
      "source": [
        "### Coding Exercise 1.3: Likelihood Function\n",
        "\n",
        "In this exercise you will implement the likelihood function $\\mathcal{L}(\\theta|x, y)$ for our linear model where $\\sigma = 1$.\n",
        "\n",
        "After implementing this function, we can produce probabilities that our estimate $\\hat{\\theta}$ generated the provided observations. We will try with one of the samples from our dataset.\n",
        "\n",
        "TIP: Use `np.exp` and `np.sqrt` for the exponential and square root functions, respectively."
      ]
    },
    {
      "cell_type": "code",
      "execution_count": null,
      "metadata": {
        "execution": {},
        "id": "NXKaD91UT5yt"
      },
      "outputs": [],
      "source": [
        "def likelihood(theta_hat, x, y):\n",
        "  \"\"\"The likelihood function for a linear model with noise sampled from a\n",
        "    Gaussian distribution with zero mean and unit variance.\n",
        "\n",
        "  Args:\n",
        "    theta_hat (float): An estimate of the slope parameter.\n",
        "    x (ndarray): An array of shape (samples,) that contains the input values.\n",
        "    y (ndarray): An array of shape (samples,) that contains the corresponding\n",
        "      measurement values to the inputs.\n",
        "\n",
        "  Returns:\n",
        "    ndarray: the likelihood values for the theta_hat estimate\n",
        "  \"\"\"\n",
        "  sigma = 1\n",
        "  ##############################################################################\n",
        "  ## TODO for students: implement the likelihood function\n",
        "  # Fill out function and remove\n",
        "  # raise NotImplementedError(\"Student exercise: implement the likelihood function\")\n",
        "  ##############################################################################\n",
        "\n",
        "  # Compute Gaussian likelihood\n",
        "  pdf = (1 / np.sqrt(s * np.pi * sigma**2)) * np.exp(-(y - theta_hat * x)**2 / (2 * sigma**2))\n",
        "\n",
        "  return pdf\n",
        "\n",
        "\n",
        "print(likelihood(1.0, x[1], y[1]))"
      ]
    },
    {
      "cell_type": "code",
      "execution_count": null,
      "metadata": {
        "cellView": "both",
        "execution": {},
        "id": "iZobQjCcT5yu"
      },
      "outputs": [],
      "source": [
        "# to_remove solution\n",
        "def likelihood(theta_hat, x, y):\n",
        "  \"\"\"The likelihood function for a linear model with noise sampled from a\n",
        "    Gaussian distribution with zero mean and unit variance.\n",
        "\n",
        "  Args:\n",
        "    theta_hat (float): An estimate of the slope parameter.\n",
        "    x (ndarray): An array of shape (samples,) that contains the input values.\n",
        "    y (ndarray): An array of shape (samples,) that contains the corresponding\n",
        "      measurement values to the inputs.\n",
        "\n",
        "  Returns:\n",
        "    float: the likelihood value for the theta_hat estimate\n",
        "  \"\"\"\n",
        "  sigma = 1\n",
        "\n",
        "  # Compute Gaussian likelihood\n",
        "  pdf = 1 / np.sqrt(2 * np.pi * sigma**2) * np.exp(-(y - theta_hat * x)**2 / (2 * sigma**2))\n",
        "\n",
        "  return pdf\n",
        "\n",
        "\n",
        "print(likelihood(1.0, x[1], y[1]))"
      ]
    },
    {
      "cell_type": "markdown",
      "metadata": {
        "execution": {},
        "id": "zKDUqkFCT5yu"
      },
      "source": [
        "We should see that $\\mathcal{L}(\\theta=1.0|x=2.1,y=3.7) \\approx 0.11$. So far so good, but how does this tell us how this estimate is better than any others?\n",
        "\n",
        "When dealing with a set of data points, as we are with our dataset, we are concerned with their joint probability -- the likelihood that all data points are explained by our parameterization. Since we have assumed that the noise affects each output independently, we can factorize the likelihood, and write:\n",
        "\n",
        "\\begin{equation}\n",
        "\\mathcal{L}(\\theta|\\mathbf{x}, \\mathbf{y}) = \\prod_{i=1}^N \\mathcal{L}(\\theta|x_i,y_i),\n",
        "\\end{equation}\n",
        "\n",
        "where we have $N$ data points $\\mathbf{x} = [x_1,...,x_N]$ and $\\mathbf{y} = [y_1,...,y_N]$.\n",
        "\n",
        "In practice, such a product can be numerically unstable. Indeed, multiplying small values together can lead to [arithmetic underflow](https://en.wikipedia.org/wiki/Arithmetic_underflow), the situation in which the digital representation of a floating point number reaches its limit. This problem can be circumvented by taking the logarithm of the likelihood because the logarithm transforms products into sums:\n",
        "\n",
        "\\begin{equation}\n",
        "\\log\\mathcal{L}(\\theta|\\mathbf{x}, \\mathbf{y}) = \\sum_{i=1}^N \\log\\mathcal{L}(\\theta|x_i,y_i)\n",
        "\\end{equation}\n",
        "\n",
        "We can take the sum of the log of the output of our `likelihood` method applied to the full dataset to get a better idea of how different $\\hat{\\theta}$ compare. We can also plot the different distribution densities over our dataset and see how they line up qualitatively."
      ]
    },
    {
      "cell_type": "code",
      "execution_count": null,
      "metadata": {
        "cellView": "form",
        "execution": {},
        "id": "YSH7CokYT5yu"
      },
      "outputs": [],
      "source": [
        "# @markdown Execute this cell to visualize different distribution densities\n",
        "theta_hats = [0.5, 1.0, 2.2]\n",
        "fig, axes = plt.subplots(ncols=3, figsize=(16, 4))\n",
        "for theta_hat, ax in zip(theta_hats, axes):\n",
        "  ll = np.sum(np.log(likelihood(theta_hat, x, y)))  # log likelihood\n",
        "  im = plot_density_image(x, y, theta_hat, ax=ax)\n",
        "  ax.scatter(x, y)\n",
        "  ax.set(title=fr'$\\hat{{\\theta}}$ = {theta_hat}, log likelihood: {ll:.2f}')\n",
        "plt.colorbar(im, ax=ax);"
      ]
    },
    {
      "cell_type": "markdown",
      "metadata": {
        "execution": {},
        "id": "jee-6vVXT5yu"
      },
      "source": [
        "Using the log likelihood calculation, we see that $\\mathcal{L}(\\theta=1.0) > \\mathcal{L}(\\theta=0.5) > \\mathcal{L}(\\theta=2.2)$.\n",
        "\n",
        "This is great: now we have a way to compare estimators based on likelihood. But like with the MSE approach, we want an analytic solution to find the best estimator. In this case, we want to find the estimator that maximizes the likelihood.\n"
      ]
    },
    {
      "cell_type": "markdown",
      "metadata": {
        "execution": {},
        "id": "K13vehVaT5yu"
      },
      "source": [
        "## Section 1.4: Finding the Maximum Likelihood Estimator\n",
        "\n",
        "*Estimated timing to here from start of tutorial: 23 min*\n",
        "\n",
        "<details>\n",
        "<summary> <font color='blue'>Click here for text recap of relevant part of video </font></summary>\n",
        "\n",
        "We want to find the parameter value $\\hat\\theta$ that makes our data set most likely:\n",
        "\n",
        "\\begin{align}\n",
        "\\hat{\\theta}_{\\textrm{MLE}} = \\underset{\\theta}{\\operatorname{argmax}} \\mathcal{L}(\\theta|X,Y) \n",
        "\\end{align}\n",
        "\n",
        "We discussed how taking the logarithm of the likelihood helps with numerical stability, the good thing is that it does so without changing the parameter value that maximizes the likelihood. Indeed, the $\\log()$ function is *monotonically increasing*, which means that it preserves the order of its inputs. So we have:\n",
        "\n",
        "\\begin{align}\n",
        "\\hat{\\theta}_{\\textrm{MLE}} = \\underset{\\theta}{\\operatorname{argmax}} \\sum_{i=1}^m \\textrm{log} \\mathcal{L}(\\theta|x_i,y_i) \n",
        "\\end{align}\n",
        "\n",
        "Now substituting our specific likelihood function and taking its logarithm, we get:\n",
        "\\begin{align}\n",
        "\\hat{\\theta}_{\\textrm{MLE}} = \\underset{\\theta}{\\operatorname{argmax}} [-\\frac{N}{2} \\operatorname{log} 2\\pi\\sigma^2 - \\frac{1}{2\\sigma^2}\\sum_{i=1}^N (y_i-\\theta x_i)^2].\n",
        "\\end{align}\n",
        "\n",
        "Note that maximizing the log likelihood is the same as minimizing the negative log likelihood (in practice optimization routines are developed to solve minimization not maximization problems). Because of the convexity of this objective function, we can take the derivative of our negative log likelihhood, set it to 0, and solve - just like our solution to minimizing MSE.\n",
        "\n",
        "\\begin{align}\n",
        "\\frac{\\partial\\operatorname{log}\\mathcal{L}(\\theta|x,y)}{\\partial\\theta}=\\frac{1}{\\sigma^2}\\sum_{i=1}^N(y_i-\\theta x_i)x_i = 0\n",
        "\\end{align}\n",
        "\n",
        "This looks remarkably like the equation we had to solve for the optimal MSE estimator, and, in fact, we arrive to the exact same solution!\n",
        "\n",
        "\\begin{align}\n",
        "\\hat{\\theta}_{\\textrm{MLE}} = \\hat{\\theta}_{\\textrm{MSE}} = \\frac{\\sum_{i=1}^N x_i y_i}{\\sum_{i=1}^N x_i^2}\n",
        "\\end{align}"
      ]
    },
    {
      "cell_type": "code",
      "execution_count": null,
      "metadata": {
        "execution": {},
        "id": "V__A5H3HT5yv"
      },
      "outputs": [],
      "source": [
        "# Compute theta_hat_MLE\n",
        "theta_hat_mle = (x @ y) / (x @ x)"
      ]
    },
    {
      "cell_type": "code",
      "execution_count": null,
      "metadata": {
        "cellView": "form",
        "execution": {},
        "id": "d6VKbYJVT5yv"
      },
      "outputs": [],
      "source": [
        "#@title\n",
        "#@markdown Execute this cell to visualize density with theta_hat_mle\n",
        "\n",
        "# Plot the resulting distribution density\n",
        "fig, ax = plt.subplots()\n",
        "ll = np.sum(np.log(likelihood(theta_hat_mle, x, y))) # log likelihood\n",
        "im = plot_density_image(x, y, theta_hat_mle, ax=ax)\n",
        "plt.colorbar(im, ax=ax);\n",
        "ax.scatter(x, y)\n",
        "ax.set(title=fr'$\\hat{{\\theta}}$ = {theta_hat_mle:.2f}, log likelihood: {ll:.2f}');"
      ]
    },
    {
      "cell_type": "markdown",
      "metadata": {
        "execution": {},
        "id": "W9JaJcnwT5yv"
      },
      "source": [
        "---\n",
        "# Summary\n",
        "\n",
        "*Estimated timing of tutorial: 30 minutes*\n",
        "\n",
        "\n",
        "Likelihood vs probability:\n",
        "\n",
        "  - $\\mathcal{L}(\\theta|x, y) = p(y|x, \\theta)$\n",
        "  - $p(y|x, \\theta) \\rightarrow$ \"probability of observing the response $y$ given parameter $\\theta$ and input $x$\"\n",
        "  - $\\mathcal{L}(\\theta|x, y) \\rightarrow$ \"likelihood model that parameters $\\theta$ produced response $y$ from input $x$\"\n",
        "\n",
        "Log-likelihood maximization:\n",
        "\n",
        "  - We take the $\\log$ of the likelihood function for computational convenience\n",
        "  - The parameters $\\theta$ that maximize $\\log\\mathcal{L}(\\theta|x, y)$ are the model parameters that maximize the probability of observing the data.\n",
        "\n",
        "**Key point**: the log-likelihood is a flexible cost function, and is often used to find model parameters that best fit the data."
      ]
    },
    {
      "cell_type": "markdown",
      "metadata": {
        "execution": {},
        "id": "JMebmsrFT5yv"
      },
      "source": [
        "\n",
        "---\n",
        "# Notation\n",
        "\n",
        "\\begin{align}\n",
        "x &\\quad \\text{input, independent variable}\\\\\n",
        "y &\\quad \\text{response measurement, dependent variable}\\\\\n",
        "\\mathbf{x} &\\quad \\text{vector of input values}\\\\\n",
        "\\mathbf{y} &\\quad \\text{vector of measurements}\\\\\n",
        "\\epsilon &\\quad \\text{measurement error, noise contribution}\\\\\n",
        "\\epsilon \\sim \\mathcal{N}(\\mu, \\sigma^2) &\\quad \\text{random variable } \\epsilon \\text{ is distributed according to a Gaussian distribution, with mean } \\mu \\text{ and variance } \\sigma^2\\\\\n",
        "\\mu &\\quad \\text{mean}\\\\\n",
        "\\sigma^2 &\\quad \\text{variance}\\\\\n",
        "\\sigma &\\quad \\text{standard deviation}\\\\\n",
        "\\theta &\\quad \\text{parameter}\\\\\n",
        "\\hat{\\theta} &\\quad \\text{estimate of parameter}\\\\\n",
        "\\mathcal{L}(\\theta|x, y) &\\quad \\text{likelihood of that parameter } \\theta \\text{ producing response } y \\text{ from input } x \\\\ \n",
        "p(y|x, \\theta) &\\quad \\text{probability of observing the response } y \\text{ given input } x \\text{ and parameter } \\theta \\\\ \n",
        "\\end{align}"
      ]
    },
    {
      "cell_type": "markdown",
      "metadata": {
        "execution": {},
        "id": "-ZVyBUnTT5yv"
      },
      "source": [
        "---\n",
        "# Bonus"
      ]
    },
    {
      "cell_type": "markdown",
      "metadata": {
        "execution": {},
        "id": "QQ2EsQ7tT5yv"
      },
      "source": [
        "We can also see $\\mathrm{p}(\\mathrm{y} | \\mathrm{x}, \\theta)$ as a function of $x$. This is the stimulus likelihood function, and it is useful in case we want to decode the input $x$ from observed responses $y$. This is what is relevant from the point of view of a neuron that does not have access to the outside world and tries to infer what's out there from the responses of other neurons!\n",
        "\n",
        "\n",
        "\n"
      ]
    }
  ],
  "metadata": {
    "celltoolbar": "Slideshow",
    "colab": {
      "collapsed_sections": [],
      "name": "W1D2_Tutorial2",
      "provenance": [],
      "toc_visible": true,
      "include_colab_link": true
    },
    "kernel": {
      "display_name": "Python 3",
      "language": "python",
      "name": "python3"
    },
    "kernelspec": {
      "display_name": "Python 3",
      "language": "python",
      "name": "python3"
    },
    "language_info": {
      "codemirror_mode": {
        "name": "ipython",
        "version": 3
      },
      "file_extension": ".py",
      "mimetype": "text/x-python",
      "name": "python",
      "nbconvert_exporter": "python",
      "pygments_lexer": "ipython3",
      "version": "3.7.13"
    },
    "widgets": {
      "application/vnd.jupyter.widget-state+json": {
        "24128be763844102834629e9df8b20cf": {
          "model_module": "@jupyter-widgets/controls",
          "model_name": "VBoxModel",
          "model_module_version": "1.5.0",
          "state": {
            "_dom_classes": [
              "widget-interact"
            ],
            "_model_module": "@jupyter-widgets/controls",
            "_model_module_version": "1.5.0",
            "_model_name": "VBoxModel",
            "_view_count": null,
            "_view_module": "@jupyter-widgets/controls",
            "_view_module_version": "1.5.0",
            "_view_name": "VBoxView",
            "box_style": "",
            "children": [
              "IPY_MODEL_b2f5b2cb9a09426e83eaf14aed90c3ba",
              "IPY_MODEL_9edd7ed0d0f34883994572ecfeab42c2",
              "IPY_MODEL_cbc0a0d1333545f4b32a6fe68bdb10da"
            ],
            "layout": "IPY_MODEL_d9976cbc7e514d028326a0f6bb51f593"
          }
        },
        "b2f5b2cb9a09426e83eaf14aed90c3ba": {
          "model_module": "@jupyter-widgets/controls",
          "model_name": "FloatSliderModel",
          "model_module_version": "1.5.0",
          "state": {
            "_dom_classes": [],
            "_model_module": "@jupyter-widgets/controls",
            "_model_module_version": "1.5.0",
            "_model_name": "FloatSliderModel",
            "_view_count": null,
            "_view_module": "@jupyter-widgets/controls",
            "_view_module_version": "1.5.0",
            "_view_name": "FloatSliderView",
            "continuous_update": true,
            "description": "mu",
            "description_tooltip": null,
            "disabled": false,
            "layout": "IPY_MODEL_9a4f05ffa9a647058e14a6769881a82f",
            "max": 2,
            "min": -2,
            "orientation": "horizontal",
            "readout": true,
            "readout_format": ".2f",
            "step": 0.1,
            "style": "IPY_MODEL_f0ef848f48ea4bbab1b05f2452059899",
            "value": 0
          }
        },
        "9edd7ed0d0f34883994572ecfeab42c2": {
          "model_module": "@jupyter-widgets/controls",
          "model_name": "FloatSliderModel",
          "model_module_version": "1.5.0",
          "state": {
            "_dom_classes": [],
            "_model_module": "@jupyter-widgets/controls",
            "_model_module_version": "1.5.0",
            "_model_name": "FloatSliderModel",
            "_view_count": null,
            "_view_module": "@jupyter-widgets/controls",
            "_view_module_version": "1.5.0",
            "_view_name": "FloatSliderView",
            "continuous_update": true,
            "description": "sigma",
            "description_tooltip": null,
            "disabled": false,
            "layout": "IPY_MODEL_fdb0a1485d304e8bb6be0371c4a8b6f3",
            "max": 2,
            "min": 0.5,
            "orientation": "horizontal",
            "readout": true,
            "readout_format": ".2f",
            "step": 0.1,
            "style": "IPY_MODEL_803043b6f3f744c99845fd455cdac2e5",
            "value": 1
          }
        },
        "cbc0a0d1333545f4b32a6fe68bdb10da": {
          "model_module": "@jupyter-widgets/output",
          "model_name": "OutputModel",
          "model_module_version": "1.0.0",
          "state": {
            "_dom_classes": [],
            "_model_module": "@jupyter-widgets/output",
            "_model_module_version": "1.0.0",
            "_model_name": "OutputModel",
            "_view_count": null,
            "_view_module": "@jupyter-widgets/output",
            "_view_module_version": "1.0.0",
            "_view_name": "OutputView",
            "layout": "IPY_MODEL_3fe68c9acc594d40920b742fcc55ae03",
            "msg_id": "",
            "outputs": [
              {
                "output_type": "display_data",
                "data": {
                  "text/plain": "<Figure size 576x432 with 1 Axes>",
                  "image/png": "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\n"
                },
                "metadata": {
                  "image/png": {
                    "width": 558,
                    "height": 413
                  },
                  "needs_background": "light"
                }
              }
            ]
          }
        },
        "d9976cbc7e514d028326a0f6bb51f593": {
          "model_module": "@jupyter-widgets/base",
          "model_name": "LayoutModel",
          "model_module_version": "1.2.0",
          "state": {
            "_model_module": "@jupyter-widgets/base",
            "_model_module_version": "1.2.0",
            "_model_name": "LayoutModel",
            "_view_count": null,
            "_view_module": "@jupyter-widgets/base",
            "_view_module_version": "1.2.0",
            "_view_name": "LayoutView",
            "align_content": null,
            "align_items": null,
            "align_self": null,
            "border": null,
            "bottom": null,
            "display": null,
            "flex": null,
            "flex_flow": null,
            "grid_area": null,
            "grid_auto_columns": null,
            "grid_auto_flow": null,
            "grid_auto_rows": null,
            "grid_column": null,
            "grid_gap": null,
            "grid_row": null,
            "grid_template_areas": null,
            "grid_template_columns": null,
            "grid_template_rows": null,
            "height": null,
            "justify_content": null,
            "justify_items": null,
            "left": null,
            "margin": null,
            "max_height": null,
            "max_width": null,
            "min_height": null,
            "min_width": null,
            "object_fit": null,
            "object_position": null,
            "order": null,
            "overflow": null,
            "overflow_x": null,
            "overflow_y": null,
            "padding": null,
            "right": null,
            "top": null,
            "visibility": null,
            "width": null
          }
        },
        "9a4f05ffa9a647058e14a6769881a82f": {
          "model_module": "@jupyter-widgets/base",
          "model_name": "LayoutModel",
          "model_module_version": "1.2.0",
          "state": {
            "_model_module": "@jupyter-widgets/base",
            "_model_module_version": "1.2.0",
            "_model_name": "LayoutModel",
            "_view_count": null,
            "_view_module": "@jupyter-widgets/base",
            "_view_module_version": "1.2.0",
            "_view_name": "LayoutView",
            "align_content": null,
            "align_items": null,
            "align_self": null,
            "border": null,
            "bottom": null,
            "display": null,
            "flex": null,
            "flex_flow": null,
            "grid_area": null,
            "grid_auto_columns": null,
            "grid_auto_flow": null,
            "grid_auto_rows": null,
            "grid_column": null,
            "grid_gap": null,
            "grid_row": null,
            "grid_template_areas": null,
            "grid_template_columns": null,
            "grid_template_rows": null,
            "height": null,
            "justify_content": null,
            "justify_items": null,
            "left": null,
            "margin": null,
            "max_height": null,
            "max_width": null,
            "min_height": null,
            "min_width": null,
            "object_fit": null,
            "object_position": null,
            "order": null,
            "overflow": null,
            "overflow_x": null,
            "overflow_y": null,
            "padding": null,
            "right": null,
            "top": null,
            "visibility": null,
            "width": null
          }
        },
        "f0ef848f48ea4bbab1b05f2452059899": {
          "model_module": "@jupyter-widgets/controls",
          "model_name": "SliderStyleModel",
          "model_module_version": "1.5.0",
          "state": {
            "_model_module": "@jupyter-widgets/controls",
            "_model_module_version": "1.5.0",
            "_model_name": "SliderStyleModel",
            "_view_count": null,
            "_view_module": "@jupyter-widgets/base",
            "_view_module_version": "1.2.0",
            "_view_name": "StyleView",
            "description_width": "",
            "handle_color": null
          }
        },
        "fdb0a1485d304e8bb6be0371c4a8b6f3": {
          "model_module": "@jupyter-widgets/base",
          "model_name": "LayoutModel",
          "model_module_version": "1.2.0",
          "state": {
            "_model_module": "@jupyter-widgets/base",
            "_model_module_version": "1.2.0",
            "_model_name": "LayoutModel",
            "_view_count": null,
            "_view_module": "@jupyter-widgets/base",
            "_view_module_version": "1.2.0",
            "_view_name": "LayoutView",
            "align_content": null,
            "align_items": null,
            "align_self": null,
            "border": null,
            "bottom": null,
            "display": null,
            "flex": null,
            "flex_flow": null,
            "grid_area": null,
            "grid_auto_columns": null,
            "grid_auto_flow": null,
            "grid_auto_rows": null,
            "grid_column": null,
            "grid_gap": null,
            "grid_row": null,
            "grid_template_areas": null,
            "grid_template_columns": null,
            "grid_template_rows": null,
            "height": null,
            "justify_content": null,
            "justify_items": null,
            "left": null,
            "margin": null,
            "max_height": null,
            "max_width": null,
            "min_height": null,
            "min_width": null,
            "object_fit": null,
            "object_position": null,
            "order": null,
            "overflow": null,
            "overflow_x": null,
            "overflow_y": null,
            "padding": null,
            "right": null,
            "top": null,
            "visibility": null,
            "width": null
          }
        },
        "803043b6f3f744c99845fd455cdac2e5": {
          "model_module": "@jupyter-widgets/controls",
          "model_name": "SliderStyleModel",
          "model_module_version": "1.5.0",
          "state": {
            "_model_module": "@jupyter-widgets/controls",
            "_model_module_version": "1.5.0",
            "_model_name": "SliderStyleModel",
            "_view_count": null,
            "_view_module": "@jupyter-widgets/base",
            "_view_module_version": "1.2.0",
            "_view_name": "StyleView",
            "description_width": "",
            "handle_color": null
          }
        },
        "3fe68c9acc594d40920b742fcc55ae03": {
          "model_module": "@jupyter-widgets/base",
          "model_name": "LayoutModel",
          "model_module_version": "1.2.0",
          "state": {
            "_model_module": "@jupyter-widgets/base",
            "_model_module_version": "1.2.0",
            "_model_name": "LayoutModel",
            "_view_count": null,
            "_view_module": "@jupyter-widgets/base",
            "_view_module_version": "1.2.0",
            "_view_name": "LayoutView",
            "align_content": null,
            "align_items": null,
            "align_self": null,
            "border": null,
            "bottom": null,
            "display": null,
            "flex": null,
            "flex_flow": null,
            "grid_area": null,
            "grid_auto_columns": null,
            "grid_auto_flow": null,
            "grid_auto_rows": null,
            "grid_column": null,
            "grid_gap": null,
            "grid_row": null,
            "grid_template_areas": null,
            "grid_template_columns": null,
            "grid_template_rows": null,
            "height": null,
            "justify_content": null,
            "justify_items": null,
            "left": null,
            "margin": null,
            "max_height": null,
            "max_width": null,
            "min_height": null,
            "min_width": null,
            "object_fit": null,
            "object_position": null,
            "order": null,
            "overflow": null,
            "overflow_x": null,
            "overflow_y": null,
            "padding": null,
            "right": null,
            "top": null,
            "visibility": null,
            "width": null
          }
        }
      }
    }
  },
  "nbformat": 4,
  "nbformat_minor": 0
}